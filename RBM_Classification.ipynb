{
  "nbformat": 4,
  "nbformat_minor": 0,
  "metadata": {
    "colab": {
      "name": "RBM_Classification.ipynb",
      "provenance": [],
      "authorship_tag": "ABX9TyPus1McbAZdxf6rS6pt81AV",
      "include_colab_link": true
    },
    "kernelspec": {
      "name": "python3",
      "display_name": "Python 3"
    },
    "language_info": {
      "name": "python"
    }
  },
  "cells": [
    {
      "cell_type": "markdown",
      "metadata": {
        "id": "view-in-github",
        "colab_type": "text"
      },
      "source": [
        "<a href=\"https://colab.research.google.com/github/Varshini-R/Deep-Belief-Network/blob/main/RBM_Classification.ipynb\" target=\"_parent\"><img src=\"https://colab.research.google.com/assets/colab-badge.svg\" alt=\"Open In Colab\"/></a>"
      ]
    },
    {
      "cell_type": "code",
      "metadata": {
        "colab": {
          "base_uri": "https://localhost:8080/"
        },
        "id": "4VGEZI5JvhUw",
        "outputId": "8a82288d-d929-4461-bfa9-6b1a5a526a63"
      },
      "source": [
        "! git clone https://github.com/2015xli/DBN.git"
      ],
      "execution_count": 8,
      "outputs": [
        {
          "output_type": "stream",
          "name": "stdout",
          "text": [
            "fatal: destination path 'DBN' already exists and is not an empty directory.\n"
          ]
        }
      ]
    },
    {
      "cell_type": "code",
      "metadata": {
        "id": "1pfgaNr2wgBH"
      },
      "source": [
        "%run \"RBM.ipynb\"\n",
        "\n",
        "class RBM_Classification(RBM):\n",
        "    # n_k is the number of classes\n",
        "    def __init__(self, n_x, n_h, n_k, n_d=1, W=None, b=None, c=None, k=1):\n",
        "        self.n_x = n_x\n",
        "        self.n_k = n_k\n",
        "        self.n_d = n_d  \n",
        "        # label is represented with n_k*n_d dots, where label i is the i-th group of n_d dots\n",
        "        # np.zeros(n_k*n_d)[i*n_d:+n_d] = 1\n",
        "        super().__init__(n_x+n_k*n_d, n_h, W, b, c, k)\n",
        "        return\n",
        "        \n",
        "    def convert_input(self, X, Label):\n",
        "        n_sample = X.shape[0]\n",
        "        n_k = self.n_k; n_d = self.n_d; n_x = self.n_x\n",
        "        assert X.shape == (n_sample, n_x)\n",
        "\n",
        "        if Label is not None:\n",
        "            Label = Label.flatten()\n",
        "            #attach label to data\n",
        "            Y = np.zeros(shape=(n_sample, n_k))\n",
        "            Index = np.arange(n_sample)\n",
        "            Y[Index, Label] = 1\n",
        "            Y = Y.repeat(n_d, axis=1)\n",
        "        else:\n",
        "            Y = np.zeros(shape=(n_sample, n_k*n_d))\n",
        "\n",
        "        V = np.append(X, Y, axis=1)\n",
        "        assert V.shape == (n_sample, self.n_v)        \n",
        "        return V\n",
        "\n",
        "    # this is the API for app to use\n",
        "    def train(self, X, Label, n_epoch=1, batch_size=10, learning=0.01, save_file=None):\n",
        "        if self.training_done: return\n",
        "\n",
        "        save_file = save_file + \".rbm_classify\"\n",
        "        V = self.convert_input(X, Label)\n",
        "        self.train_model(V, n_epoch, batch_size, learning, save_file)\n",
        "\n",
        "        self.training_done = True\n",
        "        return\n",
        "\n",
        "    def classify(self, x):\n",
        "        #set_trace()\n",
        "        x = x.reshape(1,-1)\n",
        "        v = self.convert_input(x, None)\n",
        "        vp, vs = super().reconstruct(v)\n",
        "\n",
        "        n_k = self.n_k; n_d = self.n_d; n_x = self.n_x\n",
        "        result = vp[0, n_x:]\n",
        "        result = result.reshape(n_k, -1).sum(axis=1) # collapse the k*d dots into k sum dots.\n",
        "        pred = np.argmax(result)\n",
        "\n",
        "        return vp[0, :n_x], pred\n",
        "    \n",
        "    def create_label_input(self, label, weight):\n",
        "        n_k = self.n_k; n_d = self.n_d\n",
        "        classes = np.zeros(n_k)\n",
        "        classes[label] = weight\n",
        "        classes = classes.repeat(n_d)\n",
        "        return classes\n",
        "\n",
        "    def reconstruct(self, x, label, k_gibbs, init_w, w):\n",
        "        # this is a very simple generation algorithm with single-layer RBM\n",
        "        classes = self.create_label_input(label, init_w)\n",
        "        v = np.append(x, classes)\n",
        "        vp = v.reshape(1,-1)\n",
        "        \n",
        "        classes = self.create_label_input(label, w)\n",
        "        n_x = self.n_x\n",
        "        for i in range(k_gibbs):\n",
        "            vp, vs = super().reconstruct(vp)\n",
        "            vp[0, n_x:] = classes\n",
        "\n",
        "        return vp[0, :n_x]\n",
        "            \n",
        "    def reconstruct_from_label(self, label, k_gibbs, init_w, w):\n",
        "        # this is a very simple generation algorithm with single-layer RBM        \n",
        "        n_x = self.n_x\n",
        "        #np.random.seed(1234)\n",
        "        #x = np.random.binomial(1, 0.2, n_x)\n",
        "        #x = np.zeros(n_x)\n",
        "        #x = np.random.uniform(0, 0.8, n_x)\n",
        "        x = np.full(n_x, 0.1)\n",
        "        v = self.reconstruct(x, label, k_gibbs, init_w, w)\n",
        "        return v\n",
        "\n",
        "    def save_model(self, save_file):\n",
        "        dict = {'n_x':self.n_x, 'n_h':self.n_h, 'n_k':self.n_k, 'n_d':self.n_d, 'W':self.W, 'b':self.b, 'c':self.c}\n",
        "        save_file += \".(\"+ str(self.n_x) + \"+\" + str(self.n_k) + \"x\" + str(self.n_d) + \")x\" + str(self.n_h)\n",
        "        with open(save_file, 'wb') as f:\n",
        "            pickle.dump(dict, f, protocol=pickle.HIGHEST_PROTOCOL)\n",
        "\n",
        "        return\n",
        "\n",
        "    @classmethod\n",
        "    def load_model(cls, load_file):\n",
        "        with open(load_file, 'rb') as f:\n",
        "            m = pickle.load(f)\n",
        "\n",
        "        rbm = cls(m['n_x'], m['n_h'], m['n_k'], m['n_d'], m['W'], m['b'], m['c'])\n",
        "        return rbm"
      ],
      "execution_count": 9,
      "outputs": []
    },
    {
      "cell_type": "code",
      "metadata": {
        "id": "0yMSEnfEwsog"
      },
      "source": [
        "# testing of the RBM Classification_Generation code above\n",
        "\n",
        "%run \"mnist.ipynb\"\n",
        "import matplotlib as mpl\n",
        "import matplotlib.pyplot as plt\n",
        "from mpl_toolkits.axes_grid1 import Grid\n",
        "import math\n",
        "\n",
        "class MNIST_RBM_CLASSIFY:\n",
        "    def __init__(self, n_x, n_h, n_k=10, n_d=1, load_file=None, folder=\"../convolution-network\"):\n",
        "\n",
        "        if load_file is None:\n",
        "            self.net= RBM_Classification(n_x, n_h, n_k, n_d)\n",
        "        else:\n",
        "            self.net = RBM_Classification.load_model(load_file)\n",
        "            \n",
        "        self.train_input = MnistInput(\"train\", folder)\n",
        "        self.test_input = MnistInput(\"test\", folder)\n",
        "\n",
        "        return\n",
        "\n",
        "    def train(self, train_size=-1, n_epoch=100, batch_size=10, learning=0.1):\n",
        "        if self.net.training_done: return\n",
        "        \n",
        "        X = []; Y=[]\n",
        "        n_x = 0\n",
        "        for x, y in self.train_input.read(train_size):\n",
        "            X.append(x)\n",
        "            Y.append(y)\n",
        "            n_x += 1\n",
        "\n",
        "        X = (np.array(X).reshape(n_x, -1) > 30)*1\n",
        "        Label = np.array(Y).reshape(n_x, -1)\n",
        "        \n",
        "        self.net.train(X, Label, n_epoch, batch_size, learning, save_file=\"mnist\")\n",
        "        return\n",
        "\n",
        "    def classify(self, test_size=-1, output_size=20):\n",
        "        n_total=0; n_correct = 0; n_output = 0\n",
        "        X=[]; Y=[]; Recon=[]; Preds=[]\n",
        "        for x, y in self.test_input.read(test_size):\n",
        "            n_total += 1\n",
        "            reco, pred = self.net.classify(x/255)\n",
        "            if y == pred: n_correct += 1 \n",
        "            if n_output < output_size:\n",
        "                Preds.append(pred)\n",
        "                Recon.append(reco)\n",
        "                X.append(x)\n",
        "                Y.append(y)\n",
        "                n_output += 1\n",
        "\n",
        "        accuracy = n_correct/n_total\n",
        "        print(\"Classification accuracy: {}\".format(accuracy))\n",
        "\n",
        "        # output\n",
        "        d = 28\n",
        "        ncols = 10\n",
        "        nrows = int(output_size/5)\n",
        "        fig = plt.figure(figsize=(ncols, int(nrows*2)), dpi=100)\n",
        "        grid = Grid(fig, rect=111, nrows_ncols=(nrows,ncols))\n",
        "\n",
        "        for i, ax in enumerate(grid):\n",
        "            j = i//2\n",
        "            if i%2 == 0:\n",
        "                ax.imshow(X[j].reshape(d,d), cmap=mpl.cm.Greys)\n",
        "                ax.set_title(\"Orig: {}\".format(Y[j]), y=0)\n",
        "            else:\n",
        "                ax.imshow(Recon[j].reshape(d,d), cmap=mpl.cm.Greys)\n",
        "                ax.set_title(\"Reco: {}\".format(Preds[j]), y=0)\n",
        "\n",
        "            ax.set_axis_off()\n",
        "\n",
        "        fig.text(0.5,1, \"Classified images and reconstructed digits\", fontsize=20, horizontalalignment='center')\n",
        "        fig.tight_layout()\n",
        "        plt.show()        \n",
        "        return\n",
        "    \n",
        "    def generate(self, k_gibbs=50, init_w=30, w=30, n_k=10):\n",
        "        # 50,30,30 is for mnist_rbm_classify.(784+10)x85.epochs100\n",
        "        digits = []\n",
        "        for i in range( n_k ):\n",
        "            digit = self.net.reconstruct_from_label(i, k_gibbs, init_w, w)\n",
        "            digits.append(digit)\n",
        "        \n",
        "        # output\n",
        "        d = 28\n",
        "        ncols = n_k\n",
        "        nrows = 1\n",
        "        fig = plt.figure(figsize=(ncols, int(nrows*2)), dpi=100)\n",
        "        grid = Grid(fig, rect=111, nrows_ncols=(nrows,ncols))\n",
        "\n",
        "        for i, ax in enumerate(grid):\n",
        "            ax.imshow(digits[i].reshape(d,d), cmap=mpl.cm.Greys)\n",
        "            ax.set_title(i)\n",
        "            ax.set_axis_off()\n",
        "\n",
        "        fig.suptitle('Generated digit images from numbers')\n",
        "        fig.tight_layout()\n",
        "        fig.subplots_adjust(top=0.7)    \n",
        "        plt.show()        \n",
        "        return"
      ],
      "execution_count": 10,
      "outputs": []
    },
    {
      "cell_type": "code",
      "metadata": {
        "id": "6IlzEwfuwwdL",
        "colab": {
          "base_uri": "https://localhost:8080/",
          "height": 203
        },
        "outputId": "593ea6c0-8d0c-414c-d0cc-1b75b3166a4d"
      },
      "source": [
        "mnist = None\n",
        "if __name__ == \"__main__\" and '__file__' not in globals():\n",
        "    np.seterr(all='raise')\n",
        "    mnist = MNIST_RBM_CLASSIFY(28*28, n_h=28*3+1, load_file=\"DBN/trained_models/mnist_rbm_classify.epochs10.(784+10)x85\")\n",
        "    #mnist = MNIST_RBM_CLASSIFY(28*28, n_h=28*20+1)\n",
        "    #mnist.train(train_size=1000, n_epoch=2, batch_size=10, learning=0.1)\n",
        "    plt.close('all')\n",
        "    #mnist.classify()\n",
        "    mnist.generate(20,50,8)\n"
      ],
      "execution_count": 11,
      "outputs": [
        {
          "output_type": "display_data",
          "data": {
            "image/png": "[encoded data removed]",
            "text/plain": [
              "<Figure size 1000x200 with 10 Axes>"
            ]
          },
          "metadata": {
            "needs_background": "light"
          }
        }
      ]
    }
  ]
}